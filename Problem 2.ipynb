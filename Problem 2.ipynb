SELECT Community_Area_Name
FROM CensusData
WHERE Per_Capita_Income < 11000;

